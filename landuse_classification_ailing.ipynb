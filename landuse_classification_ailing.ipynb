{
 "cells": [
  {
   "cell_type": "code",
   "execution_count": 3,
   "metadata": {},
   "outputs": [],
   "source": [
    "import pandas as pd\n",
    "import pandas as pd\n",
    "import numpy as np\n",
    "import glob\n",
    "from keras.preprocessing import image\n",
    "from keras.applications.vgg16 import preprocess_input\n",
    "from keras.preprocessing.image import ImageDataGenerator\n",
    "import os,shutil\n",
    "from keras import models,layers,optimizers\n",
    "from keras.layers import Dense, Activation, Flatten, Dropout, BatchNormalization\n",
    "from keras.layers import Conv2D, MaxPooling2D\n",
    "from PIL import Image\n",
    "import numpy as np\n",
    "import matplotlib.pyplot as plt"
   ]
  },
  {
   "cell_type": "code",
   "execution_count": 2,
   "metadata": {},
   "outputs": [],
   "source": [
    "# Dataset preparation\n",
    "names = ['commercial','green','no','others', 'parking','residential']\n",
    "df_train= pd.read_csv(r\"/media/ailing/My Passport1/ailing/NTL/MKE/landuse/MKE/Train_labels.csv\")\n",
    "df_train = df_train.replace(0,'commercial').replace(1,'green').replace(2,'no').replace(3,'others').replace(4,'parking').replace(5,'residential')"
   ]
  },
  {
   "cell_type": "code",
   "execution_count": 4,
   "metadata": {},
   "outputs": [],
   "source": [
    "df_validation= pd.read_csv(r'/media/ailing/My Passport1/ailing/NTL/MKE/landuse/MKE/Validation_labels.csv')\n",
    "df_validation = df_validation.replace(0,'commercial').replace(1,'green').replace(2,'no').replace(3,'others').replace(4,'parking').replace(5,'residential')"
   ]
  },
  {
   "cell_type": "code",
   "execution_count": 5,
   "metadata": {},
   "outputs": [
    {
     "name": "stdout",
     "output_type": "stream",
     "text": [
      "Found 6169 validated image filenames belonging to 6 classes.\n"
     ]
    }
   ],
   "source": [
    "# Data generation\n",
    "train_datagen = ImageDataGenerator(rescale=1./255,\n",
    "                           shear_range = 0.2,\n",
    "                           zoom_range = 0.2,\n",
    "                           horizontal_flip=True,\n",
    "                                   width_shift_range=0.2,\n",
    "                                   height_shift_range=0.2,\n",
    "#                             reprocessing_function= preprocess_input,\n",
    "#                            validation_split=0.25\n",
    "                            )\n",
    "train_generator = train_datagen.flow_from_dataframe(dataframe=df_train,\n",
    "                        directory=\"/media/ailing/My Passport1/ailing/NTL/MKE/landuse/MKE/Train\",\n",
    "                        x_col=\"image_name\",\n",
    "                        y_col=\"label\",\n",
    "                        batch_size=20,\n",
    "#                         seed=42,\n",
    "                        shuffle=True,\n",
    "                        class_mode=\"categorical\",\n",
    "                        target_size=(300,300))"
   ]
  },
  {
   "cell_type": "code",
   "execution_count": 6,
   "metadata": {},
   "outputs": [
    {
     "name": "stdout",
     "output_type": "stream",
     "text": [
      "Found 2000 validated image filenames belonging to 6 classes.\n"
     ]
    }
   ],
   "source": [
    "validation_datagen = ImageDataGenerator(rescale=1./255)\n",
    "valid_generator = validation_datagen.flow_from_dataframe(dataframe=df_validation,\n",
    "                        directory=\"/media/ailing/My Passport1/ailing/NTL/MKE/landuse/MKE/Validation\",\n",
    "                        x_col=\"image_name\",\n",
    "                        y_col=\"label\",\n",
    "#                         subset=\"validation\", \n",
    "                        batch_size=10,\n",
    "#                         seed=42,\n",
    "                        shuffle=True,\n",
    "                        class_mode=\"categorical\",\n",
    "                        target_size=(300,300))"
   ]
  },
  {
   "cell_type": "code",
   "execution_count": 7,
   "metadata": {},
   "outputs": [
    {
     "name": "stdout",
     "output_type": "stream",
     "text": [
      "_________________________________________________________________\n",
      "Layer (type)                 Output Shape              Param #   \n",
      "=================================================================\n",
      "input_1 (InputLayer)         (None, 300, 300, 3)       0         \n",
      "_________________________________________________________________\n",
      "block1_conv1 (Conv2D)        (None, 300, 300, 64)      1792      \n",
      "_________________________________________________________________\n",
      "block1_conv2 (Conv2D)        (None, 300, 300, 64)      36928     \n",
      "_________________________________________________________________\n",
      "block1_pool (MaxPooling2D)   (None, 150, 150, 64)      0         \n",
      "_________________________________________________________________\n",
      "block2_conv1 (Conv2D)        (None, 150, 150, 128)     73856     \n",
      "_________________________________________________________________\n",
      "block2_conv2 (Conv2D)        (None, 150, 150, 128)     147584    \n",
      "_________________________________________________________________\n",
      "block2_pool (MaxPooling2D)   (None, 75, 75, 128)       0         \n",
      "_________________________________________________________________\n",
      "block3_conv1 (Conv2D)        (None, 75, 75, 256)       295168    \n",
      "_________________________________________________________________\n",
      "block3_conv2 (Conv2D)        (None, 75, 75, 256)       590080    \n",
      "_________________________________________________________________\n",
      "block3_conv3 (Conv2D)        (None, 75, 75, 256)       590080    \n",
      "_________________________________________________________________\n",
      "block3_pool (MaxPooling2D)   (None, 37, 37, 256)       0         \n",
      "_________________________________________________________________\n",
      "block4_conv1 (Conv2D)        (None, 37, 37, 512)       1180160   \n",
      "_________________________________________________________________\n",
      "block4_conv2 (Conv2D)        (None, 37, 37, 512)       2359808   \n",
      "_________________________________________________________________\n",
      "block4_conv3 (Conv2D)        (None, 37, 37, 512)       2359808   \n",
      "_________________________________________________________________\n",
      "block4_pool (MaxPooling2D)   (None, 18, 18, 512)       0         \n",
      "_________________________________________________________________\n",
      "block5_conv1 (Conv2D)        (None, 18, 18, 512)       2359808   \n",
      "_________________________________________________________________\n",
      "block5_conv2 (Conv2D)        (None, 18, 18, 512)       2359808   \n",
      "_________________________________________________________________\n",
      "block5_conv3 (Conv2D)        (None, 18, 18, 512)       2359808   \n",
      "_________________________________________________________________\n",
      "block5_pool (MaxPooling2D)   (None, 9, 9, 512)         0         \n",
      "=================================================================\n",
      "Total params: 14,714,688\n",
      "Trainable params: 0\n",
      "Non-trainable params: 14,714,688\n",
      "_________________________________________________________________\n"
     ]
    }
   ],
   "source": [
    "# Build classification model based on VGG16\n",
    "from keras.applications.vgg16 import VGG16\n",
    "vgg_conv = VGG16(include_top = False,\n",
    "                weights = 'imagenet',\n",
    "                input_shape = (300,300,3),\n",
    "                 pooling = None,\n",
    "                 input_tensor=None\n",
    "                 )\n",
    "vgg_conv.trainable = False\n",
    "vgg_conv.summary()"
   ]
  },
  {
   "cell_type": "code",
   "execution_count": 8,
   "metadata": {},
   "outputs": [
    {
     "name": "stdout",
     "output_type": "stream",
     "text": [
      "_________________________________________________________________\n",
      "Layer (type)                 Output Shape              Param #   \n",
      "=================================================================\n",
      "vgg16 (Model)                (None, 9, 9, 512)         14714688  \n",
      "_________________________________________________________________\n",
      "flatten_1 (Flatten)          (None, 41472)             0         \n",
      "_________________________________________________________________\n",
      "dense_1 (Dense)              (None, 1024)              42468352  \n",
      "_________________________________________________________________\n",
      "dropout_1 (Dropout)          (None, 1024)              0         \n",
      "_________________________________________________________________\n",
      "dense_2 (Dense)              (None, 6)                 6150      \n",
      "=================================================================\n",
      "Total params: 57,189,190\n",
      "Trainable params: 42,474,502\n",
      "Non-trainable params: 14,714,688\n",
      "_________________________________________________________________\n"
     ]
    }
   ],
   "source": [
    "model = models.Sequential()\n",
    "model.add(vgg_conv)\n",
    "model.add(layers.Flatten())\n",
    "model.add(layers.Dense(1024, activation='relu'))\n",
    "model.add(layers.Dropout(0.5))\n",
    "model.add(layers.Dense(6, activation='softmax'))\n",
    " \n",
    "# Show a summary of the model. Check the number of trainable parameters\n",
    "model.summary()\n",
    "model.compile(loss='categorical_crossentropy',optimizer = optimizers.RMSprop(lr=1e-6),metrics=['acc'])"
   ]
  },
  {
   "cell_type": "code",
   "execution_count": 9,
   "metadata": {},
   "outputs": [
    {
     "name": "stdout",
     "output_type": "stream",
     "text": [
      "Epoch 1/80\n",
      "308/308 [==============================] - 285s 924ms/step - loss: 1.9179 - acc: 0.2065 - val_loss: 1.6075 - val_acc: 0.3640\n",
      "Epoch 2/80\n",
      "308/308 [==============================] - 110s 359ms/step - loss: 1.7343 - acc: 0.2809 - val_loss: 1.4887 - val_acc: 0.4470\n",
      "Epoch 3/80\n",
      "308/308 [==============================] - 120s 389ms/step - loss: 1.6267 - acc: 0.3290 - val_loss: 1.4145 - val_acc: 0.4815\n",
      "Epoch 4/80\n",
      "308/308 [==============================] - 125s 405ms/step - loss: 1.5442 - acc: 0.3655 - val_loss: 1.3600 - val_acc: 0.5010\n",
      "Epoch 5/80\n",
      "308/308 [==============================] - 120s 390ms/step - loss: 1.4909 - acc: 0.3906 - val_loss: 1.3192 - val_acc: 0.5150\n",
      "Epoch 6/80\n",
      "308/308 [==============================] - 123s 398ms/step - loss: 1.4486 - acc: 0.4136 - val_loss: 1.2937 - val_acc: 0.5195\n",
      "Epoch 7/80\n",
      "308/308 [==============================] - 123s 398ms/step - loss: 1.4125 - acc: 0.4355 - val_loss: 1.2634 - val_acc: 0.5310\n",
      "Epoch 8/80\n",
      "308/308 [==============================] - 116s 375ms/step - loss: 1.3888 - acc: 0.4444 - val_loss: 1.2476 - val_acc: 0.5390\n",
      "Epoch 9/80\n",
      "308/308 [==============================] - 118s 385ms/step - loss: 1.3651 - acc: 0.4613 - val_loss: 1.2301 - val_acc: 0.5475\n",
      "Epoch 10/80\n",
      "308/308 [==============================] - 123s 400ms/step - loss: 1.3472 - acc: 0.4739 - val_loss: 1.2165 - val_acc: 0.5490\n",
      "Epoch 11/80\n",
      "308/308 [==============================] - 124s 402ms/step - loss: 1.3365 - acc: 0.4748 - val_loss: 1.1952 - val_acc: 0.5540\n",
      "Epoch 12/80\n",
      "308/308 [==============================] - 119s 387ms/step - loss: 1.3032 - acc: 0.4912 - val_loss: 1.1906 - val_acc: 0.5575\n",
      "Epoch 13/80\n",
      "308/308 [==============================] - 118s 384ms/step - loss: 1.3099 - acc: 0.4872 - val_loss: 1.1741 - val_acc: 0.5615\n",
      "Epoch 14/80\n",
      "308/308 [==============================] - 119s 386ms/step - loss: 1.2882 - acc: 0.4889 - val_loss: 1.1670 - val_acc: 0.5680\n",
      "Epoch 15/80\n",
      "308/308 [==============================] - 122s 396ms/step - loss: 1.2764 - acc: 0.5045 - val_loss: 1.1626 - val_acc: 0.5655\n",
      "Epoch 16/80\n",
      "308/308 [==============================] - 119s 388ms/step - loss: 1.2595 - acc: 0.5109 - val_loss: 1.1477 - val_acc: 0.5765\n",
      "Epoch 17/80\n",
      "308/308 [==============================] - 124s 401ms/step - loss: 1.2608 - acc: 0.5138 - val_loss: 1.1380 - val_acc: 0.5775\n",
      "Epoch 18/80\n",
      "308/308 [==============================] - 120s 390ms/step - loss: 1.2449 - acc: 0.5197 - val_loss: 1.1379 - val_acc: 0.5780\n",
      "Epoch 19/80\n",
      "308/308 [==============================] - 124s 401ms/step - loss: 1.2400 - acc: 0.5232 - val_loss: 1.1328 - val_acc: 0.5715\n",
      "Epoch 20/80\n",
      "308/308 [==============================] - 120s 391ms/step - loss: 1.2275 - acc: 0.5290 - val_loss: 1.1174 - val_acc: 0.5860\n",
      "Epoch 21/80\n",
      "308/308 [==============================] - 126s 409ms/step - loss: 1.2250 - acc: 0.5321 - val_loss: 1.1057 - val_acc: 0.5905\n",
      "Epoch 22/80\n",
      "308/308 [==============================] - 123s 401ms/step - loss: 1.2121 - acc: 0.5354 - val_loss: 1.1043 - val_acc: 0.5850\n",
      "Epoch 23/80\n",
      "308/308 [==============================] - 120s 391ms/step - loss: 1.2224 - acc: 0.5279 - val_loss: 1.0946 - val_acc: 0.5950\n",
      "Epoch 24/80\n",
      "308/308 [==============================] - 127s 412ms/step - loss: 1.2011 - acc: 0.5394 - val_loss: 1.1010 - val_acc: 0.5840\n",
      "Epoch 25/80\n",
      "308/308 [==============================] - 125s 405ms/step - loss: 1.1824 - acc: 0.5498 - val_loss: 1.0972 - val_acc: 0.5890\n",
      "Epoch 26/80\n",
      "308/308 [==============================] - 118s 382ms/step - loss: 1.2014 - acc: 0.5381 - val_loss: 1.0845 - val_acc: 0.5975\n",
      "Epoch 27/80\n",
      "308/308 [==============================] - 124s 402ms/step - loss: 1.1832 - acc: 0.5475 - val_loss: 1.0813 - val_acc: 0.5970\n",
      "Epoch 28/80\n",
      "308/308 [==============================] - 123s 398ms/step - loss: 1.1795 - acc: 0.5553 - val_loss: 1.0732 - val_acc: 0.5960\n",
      "Epoch 29/80\n",
      "308/308 [==============================] - 123s 400ms/step - loss: 1.1730 - acc: 0.5554 - val_loss: 1.0694 - val_acc: 0.5990\n",
      "Epoch 30/80\n",
      "308/308 [==============================] - 126s 408ms/step - loss: 1.1749 - acc: 0.5510 - val_loss: 1.0706 - val_acc: 0.5925\n",
      "Epoch 31/80\n",
      "308/308 [==============================] - 123s 399ms/step - loss: 1.1646 - acc: 0.5557 - val_loss: 1.0648 - val_acc: 0.6000\n",
      "Epoch 32/80\n",
      "308/308 [==============================] - 118s 382ms/step - loss: 1.1619 - acc: 0.5552 - val_loss: 1.0599 - val_acc: 0.5985\n",
      "Epoch 33/80\n",
      "308/308 [==============================] - 125s 406ms/step - loss: 1.1533 - acc: 0.5606 - val_loss: 1.0539 - val_acc: 0.6045\n",
      "Epoch 34/80\n",
      "308/308 [==============================] - 124s 402ms/step - loss: 1.1636 - acc: 0.5576 - val_loss: 1.0548 - val_acc: 0.6030\n",
      "Epoch 35/80\n",
      "308/308 [==============================] - 128s 416ms/step - loss: 1.1470 - acc: 0.5604 - val_loss: 1.0536 - val_acc: 0.6020\n",
      "Epoch 36/80\n",
      "308/308 [==============================] - 124s 404ms/step - loss: 1.1414 - acc: 0.5620 - val_loss: 1.0483 - val_acc: 0.6050\n",
      "Epoch 37/80\n",
      "308/308 [==============================] - 121s 391ms/step - loss: 1.1500 - acc: 0.5622 - val_loss: 1.0547 - val_acc: 0.6020\n",
      "Epoch 38/80\n",
      "308/308 [==============================] - 122s 396ms/step - loss: 1.1398 - acc: 0.5666 - val_loss: 1.0454 - val_acc: 0.6045\n",
      "Epoch 39/80\n",
      "308/308 [==============================] - 124s 401ms/step - loss: 1.1322 - acc: 0.5605 - val_loss: 1.0425 - val_acc: 0.6040\n",
      "Epoch 40/80\n",
      "308/308 [==============================] - 124s 403ms/step - loss: 1.1480 - acc: 0.5643 - val_loss: 1.0375 - val_acc: 0.6110\n",
      "Epoch 41/80\n",
      "308/308 [==============================] - 123s 399ms/step - loss: 1.1231 - acc: 0.5762 - val_loss: 1.0305 - val_acc: 0.6120\n",
      "Epoch 42/80\n",
      "308/308 [==============================] - 121s 393ms/step - loss: 1.1203 - acc: 0.5719 - val_loss: 1.0367 - val_acc: 0.6115\n",
      "Epoch 43/80\n",
      "308/308 [==============================] - 124s 403ms/step - loss: 1.1329 - acc: 0.5661 - val_loss: 1.0345 - val_acc: 0.6090\n",
      "Epoch 44/80\n",
      "308/308 [==============================] - 122s 395ms/step - loss: 1.1342 - acc: 0.5695 - val_loss: 1.0303 - val_acc: 0.6050\n",
      "Epoch 45/80\n",
      "308/308 [==============================] - 126s 410ms/step - loss: 1.1116 - acc: 0.5743 - val_loss: 1.0309 - val_acc: 0.6085\n",
      "Epoch 46/80\n",
      "308/308 [==============================] - 127s 412ms/step - loss: 1.1245 - acc: 0.5683 - val_loss: 1.0280 - val_acc: 0.6100\n",
      "Epoch 47/80\n",
      "308/308 [==============================] - 128s 415ms/step - loss: 1.1220 - acc: 0.5818 - val_loss: 1.0196 - val_acc: 0.6155\n",
      "Epoch 48/80\n",
      "308/308 [==============================] - 123s 400ms/step - loss: 1.1117 - acc: 0.5846 - val_loss: 1.0150 - val_acc: 0.6120\n",
      "Epoch 49/80\n",
      "308/308 [==============================] - 123s 398ms/step - loss: 1.1082 - acc: 0.5753 - val_loss: 1.0183 - val_acc: 0.6155\n",
      "Epoch 50/80\n",
      "308/308 [==============================] - 125s 406ms/step - loss: 1.1012 - acc: 0.5821 - val_loss: 1.0176 - val_acc: 0.6160\n",
      "Epoch 51/80\n",
      "308/308 [==============================] - 122s 396ms/step - loss: 1.1031 - acc: 0.5831 - val_loss: 1.0187 - val_acc: 0.6150\n",
      "Epoch 52/80\n",
      "308/308 [==============================] - 123s 399ms/step - loss: 1.1014 - acc: 0.5795 - val_loss: 1.0092 - val_acc: 0.6175\n",
      "Epoch 53/80\n",
      "308/308 [==============================] - 123s 400ms/step - loss: 1.1007 - acc: 0.5853 - val_loss: 1.0084 - val_acc: 0.6170\n",
      "Epoch 54/80\n",
      "308/308 [==============================] - 119s 388ms/step - loss: 1.1045 - acc: 0.5830 - val_loss: 1.0005 - val_acc: 0.6205\n",
      "Epoch 55/80\n",
      "308/308 [==============================] - 120s 391ms/step - loss: 1.0816 - acc: 0.5891 - val_loss: 1.0099 - val_acc: 0.6155\n",
      "Epoch 56/80\n",
      "308/308 [==============================] - 121s 392ms/step - loss: 1.1008 - acc: 0.5861 - val_loss: 1.0061 - val_acc: 0.6175\n",
      "Epoch 57/80\n",
      "308/308 [==============================] - 125s 405ms/step - loss: 1.0836 - acc: 0.5895 - val_loss: 1.0083 - val_acc: 0.6170\n",
      "Epoch 58/80\n",
      "308/308 [==============================] - 121s 393ms/step - loss: 1.0899 - acc: 0.5905 - val_loss: 0.9992 - val_acc: 0.6250\n",
      "Epoch 59/80\n",
      "308/308 [==============================] - 118s 382ms/step - loss: 1.0926 - acc: 0.5849 - val_loss: 1.0008 - val_acc: 0.6200\n",
      "Epoch 60/80\n",
      "308/308 [==============================] - 127s 412ms/step - loss: 1.0838 - acc: 0.5945 - val_loss: 0.9932 - val_acc: 0.6230\n"
     ]
    },
    {
     "name": "stdout",
     "output_type": "stream",
     "text": [
      "Epoch 61/80\n",
      "308/308 [==============================] - 122s 396ms/step - loss: 1.0794 - acc: 0.5939 - val_loss: 1.0058 - val_acc: 0.6215\n",
      "Epoch 62/80\n",
      "308/308 [==============================] - 125s 406ms/step - loss: 1.0777 - acc: 0.5948 - val_loss: 0.9966 - val_acc: 0.6215\n",
      "Epoch 63/80\n",
      "308/308 [==============================] - 121s 394ms/step - loss: 1.0867 - acc: 0.5909 - val_loss: 0.9981 - val_acc: 0.6265\n",
      "Epoch 64/80\n",
      "308/308 [==============================] - 120s 391ms/step - loss: 1.0732 - acc: 0.5940 - val_loss: 0.9955 - val_acc: 0.6175\n",
      "Epoch 65/80\n",
      "308/308 [==============================] - 125s 405ms/step - loss: 1.0755 - acc: 0.5931 - val_loss: 0.9921 - val_acc: 0.6215\n",
      "Epoch 66/80\n",
      "308/308 [==============================] - 126s 408ms/step - loss: 1.0753 - acc: 0.5925 - val_loss: 0.9919 - val_acc: 0.6265\n",
      "Epoch 67/80\n",
      "308/308 [==============================] - 119s 386ms/step - loss: 1.0749 - acc: 0.5895 - val_loss: 0.9870 - val_acc: 0.6185\n",
      "Epoch 68/80\n",
      "308/308 [==============================] - 122s 395ms/step - loss: 1.0608 - acc: 0.5995 - val_loss: 0.9886 - val_acc: 0.6300\n",
      "Epoch 69/80\n",
      "308/308 [==============================] - 127s 411ms/step - loss: 1.0510 - acc: 0.6029 - val_loss: 0.9854 - val_acc: 0.6275\n",
      "Epoch 70/80\n",
      "308/308 [==============================] - 121s 393ms/step - loss: 1.0728 - acc: 0.5896 - val_loss: 0.9861 - val_acc: 0.6240\n",
      "Epoch 71/80\n",
      "308/308 [==============================] - 125s 405ms/step - loss: 1.0700 - acc: 0.6014 - val_loss: 0.9846 - val_acc: 0.6275\n",
      "Epoch 72/80\n",
      "308/308 [==============================] - 121s 392ms/step - loss: 1.0543 - acc: 0.6097 - val_loss: 0.9896 - val_acc: 0.6215\n",
      "Epoch 73/80\n",
      "308/308 [==============================] - 125s 404ms/step - loss: 1.0382 - acc: 0.6081 - val_loss: 0.9817 - val_acc: 0.6245\n",
      "Epoch 74/80\n",
      "308/308 [==============================] - 127s 412ms/step - loss: 1.0619 - acc: 0.6063 - val_loss: 0.9812 - val_acc: 0.6255\n",
      "Epoch 75/80\n",
      "308/308 [==============================] - 122s 398ms/step - loss: 1.0655 - acc: 0.5997 - val_loss: 0.9802 - val_acc: 0.6275\n",
      "Epoch 76/80\n",
      "308/308 [==============================] - 124s 403ms/step - loss: 1.0445 - acc: 0.6057 - val_loss: 0.9801 - val_acc: 0.6285\n",
      "Epoch 77/80\n",
      "308/308 [==============================] - 121s 394ms/step - loss: 1.0564 - acc: 0.6043 - val_loss: 0.9784 - val_acc: 0.6255\n",
      "Epoch 78/80\n",
      "308/308 [==============================] - 124s 403ms/step - loss: 1.0578 - acc: 0.5972 - val_loss: 0.9732 - val_acc: 0.6335\n",
      "Epoch 79/80\n",
      "308/308 [==============================] - 124s 403ms/step - loss: 1.0386 - acc: 0.6115 - val_loss: 0.9792 - val_acc: 0.6280\n",
      "Epoch 80/80\n",
      "308/308 [==============================] - 121s 393ms/step - loss: 1.0547 - acc: 0.6069 - val_loss: 0.9780 - val_acc: 0.6290\n"
     ]
    }
   ],
   "source": [
    "STEP_SIZE_TRAIN=train_generator.n//train_generator.batch_size\n",
    "STEP_SIZE_VALID=valid_generator.n//valid_generator.batch_size\n",
    "history =model.fit_generator(generator=train_generator,\n",
    "                    steps_per_epoch=STEP_SIZE_TRAIN,\n",
    "                    validation_data=valid_generator,\n",
    "                    validation_steps=STEP_SIZE_VALID,\n",
    "                    epochs=80,verbose=1)"
   ]
  },
  {
   "cell_type": "code",
   "execution_count": 10,
   "metadata": {},
   "outputs": [],
   "source": [
    "model.save(r'model_80.h5')"
   ]
  },
  {
   "cell_type": "code",
   "execution_count": null,
   "metadata": {
    "scrolled": true
   },
   "outputs": [],
   "source": []
  },
  {
   "cell_type": "code",
   "execution_count": 11,
   "metadata": {},
   "outputs": [
    {
     "data": {
      "image/png": "[encoded data removed]",
      "text/plain": [
       "<Figure size 432x288 with 1 Axes>"
      ]
     },
     "metadata": {
      "needs_background": "light"
     },
     "output_type": "display_data"
    }
   ],
   "source": [
    "acc = history.history['acc']\n",
    "val_acc = history.history['val_acc']\n",
    "loss = history.history['loss']\n",
    "val_loss = history.history['val_loss']\n",
    "\n",
    "epochs = range(1, len(acc) + 1)\n",
    "\n",
    "plt.plot(epochs, loss, 'bo', label='Training loss')\n",
    "# b is for \"solid blue line\"\n",
    "plt.plot(epochs, val_loss, 'b', label='Validation loss')\n",
    "plt.title('Training and validation loss')\n",
    "plt.xlabel('Epochs')\n",
    "plt.ylabel('Loss')\n",
    "plt.legend()\n",
    "\n",
    "plt.show()"
   ]
  },
  {
   "cell_type": "code",
   "execution_count": 11,
   "metadata": {},
   "outputs": [],
   "source": []
  },
  {
   "cell_type": "code",
   "execution_count": 4,
   "metadata": {},
   "outputs": [
    {
     "name": "stdout",
     "output_type": "stream",
     "text": [
      "_________________________________________________________________\n",
      "Layer (type)                 Output Shape              Param #   \n",
      "=================================================================\n",
      "vgg16 (Model)                (None, 9, 9, 512)         14714688  \n",
      "_________________________________________________________________\n",
      "flatten_1 (Flatten)          (None, 41472)             0         \n",
      "_________________________________________________________________\n",
      "dense_1 (Dense)              (None, 1024)              42468352  \n",
      "_________________________________________________________________\n",
      "dropout_1 (Dropout)          (None, 1024)              0         \n",
      "_________________________________________________________________\n",
      "dense_2 (Dense)              (None, 6)                 6150      \n",
      "=================================================================\n",
      "Total params: 57,189,190\n",
      "Trainable params: 42,474,502\n",
      "Non-trainable params: 14,714,688\n",
      "_________________________________________________________________\n"
     ]
    }
   ],
   "source": [
    "from keras.applications.vgg16 import VGG16\n",
    "vgg_conv = VGG16(include_top = False,\n",
    "#                 weights = 'imagenet',\n",
    "                input_shape = (300,300,3),\n",
    "                 pooling = None,\n",
    "                 input_tensor=None\n",
    "                 )\n",
    "vgg_conv.trainable = False\n",
    "model = models.Sequential()\n",
    "model.add(vgg_conv)\n",
    "model.add(layers.Flatten())\n",
    "model.add(layers.Dense(1024, activation='relu'))\n",
    "model.add(layers.Dropout(0.5))\n",
    "model.add(layers.Dense(6, activation='softmax'))\n",
    " \n",
    "# Show a summary of the model. Check the number of trainable parameters\n",
    "model.summary()\n",
    "model.compile(loss='categorical_crossentropy',optimizer = optimizers.RMSprop(lr=1e-6),metrics=['acc'])\n",
    "model.load_weights(r'model_80.h5')"
   ]
  },
  {
   "cell_type": "code",
   "execution_count": 5,
   "metadata": {},
   "outputs": [],
   "source": [
    "names = ['commercial','green','no','others', 'parking','residential']"
   ]
  },
  {
   "cell_type": "code",
   "execution_count": 6,
   "metadata": {},
   "outputs": [],
   "source": [
    "def predict_image(image_path, names, model,showimage = False,save_path_name = ''):\n",
    "    im = Image.open(image_path)\n",
    "    im = im.resize((300,300), Image.ANTIALIAS)\n",
    "    image_array = np.array(im)/255.0\n",
    "    im_list = []\n",
    "    im_list.append(image_array)\n",
    "    inflow = np.array(im_list)\n",
    "    cl = model.predict_classes(inflow)\n",
    "    pro = model.predict_proba(inflow)\n",
    "    name = names[int(cl)]\n",
    "    if showimage:\n",
    "        plt.imshow(im)\n",
    "        print(pro)\n",
    "        string = 'Class: ' + name + '.' + 'Probability:' + str(pro[0][cl])\n",
    "        plt.text(5, 8, string, bbox=dict(facecolor='red', alpha=1))\n",
    "        if save_path_name != '':\n",
    "            plt.savefig(save_path_name)\n",
    "    return cl, pro\n",
    "def test(image_folder, test_csv, model, names, result_csv):\n",
    "    new_file = []\n",
    "    with open(test_csv, 'r') as csv_file:\n",
    "        reader = csv.reader(csv_file)\n",
    "        for line in reader:\n",
    "            if line[0] == 'image_name':\n",
    "                continue\n",
    "            else:\n",
    "                name = line[0]\n",
    "                image_path = os.path.join(image_folder, name)\n",
    "                cl, pro = predict_image(image_path, names, model)\n",
    "                index = cl\n",
    "                newline = []\n",
    "                newline.append(name)\n",
    "                newline.append(line[1])\n",
    "                newline.append(int(index))\n",
    "                newline.append(pro[0][int(index)])\n",
    "                if int(line[1]) == 0 or int(line[1]) == 1:\n",
    "                    if int(index) == 0:\n",
    "                        newline.append('True')\n",
    "                    else:\n",
    "                        newline.append('False')\n",
    "                if int(line[1]) == 2:\n",
    "                    if int(index) == 3:\n",
    "                        newline.append('True')\n",
    "                    else:\n",
    "                        newline.append('False')\n",
    "                if int(line[1]) == 3:\n",
    "                    if int(index) == 4:\n",
    "                        newline.append('True')\n",
    "                    else:\n",
    "                        newline.append('False')\n",
    "                if int(line[1]) == 4:\n",
    "                    if int(index) == 5:\n",
    "                        newline.append('True')\n",
    "                    else:\n",
    "                        newline.append('False')\n",
    "                if int(line[1]) == 5 or int(line[1]) == 6:\n",
    "                    if int(index) == 1:\n",
    "                        newline.append('True')\n",
    "                    else:\n",
    "                        newline.append('False')\n",
    "                if int(line[1]) == 7:\n",
    "                    if int(index) == 2:\n",
    "                        newline.append('True')\n",
    "                    else:\n",
    "                        newline.append('False')\n",
    "                new_file.append(newline)\n",
    "    with open(result_csv, 'a', newline = '') as csv_file:\n",
    "        writer = csv.writer(csv_file)\n",
    "        for line in new_file:\n",
    "            writer.writerow(line)\n",
    "def predict_folder(folder_path, output_csv, names,model):\n",
    "    i = 0\n",
    "    image_names = os.listdir(folder_path)\n",
    "    lines = []\n",
    "    for name in image_names:\n",
    "        line = []\n",
    "        image_path = os.path.join(folder_path, name)\n",
    "        im = Image.open(image_path)\n",
    "        im = im.resize((300,300), Image.ANTIALIAS)\n",
    "        \n",
    "        image_array = np.array(im)/255.0\n",
    "        im_list = []\n",
    "        im_list.append(image_array)\n",
    "        inflow = np.array(im_list)\n",
    "        cl = model.predict_classes(inflow)\n",
    "        pro = model.predict_proba(inflow)\n",
    "        \n",
    "#         cl,pro = predict_image(image_path,names, model)\n",
    "        land_type = names[int(cl)]\n",
    "        line.append(name.split('_')[0])\n",
    "        line.append(name.split('_')[1])\n",
    "        line.append(land_type)\n",
    "        line.append(int(cl))\n",
    "        line.append(pro[0][int(cl)])\n",
    "        lines.append(line)\n",
    "        i = i + 1\n",
    "        print(i)\n",
    "    with open(output_csv, 'a', newline='') as csv_file:\n",
    "        writer = csv.writer(csv_file)\n",
    "#         writer.writerow(['Object_ID', 'land_type', 'land_code', 'pro'])\n",
    "        writer.writerow(['x','y', 'land_type', 'land_code', 'pro'])\n",
    "        for line in lines:\n",
    "            writer.writerow(line)"
   ]
  },
  {
   "cell_type": "code",
   "execution_count": 8,
   "metadata": {
    "scrolled": true
   },
   "outputs": [
    {
     "name": "stdout",
     "output_type": "stream",
     "text": [
      "[[0.03516349 0.00964302 0.070691   0.01334793 0.0135565  0.8575981 ]]\n"
     ]
    },
    {
     "data": {
      "text/plain": [
       "(array([5]),\n",
       " array([[0.03516349, 0.00964302, 0.070691  , 0.01334793, 0.0135565 ,\n",
       "         0.8575981 ]], dtype=float32))"
      ]
     },
     "execution_count": 8,
     "metadata": {},
     "output_type": "execute_result"
    },
    {
     "data": {
      "image/png": "[encoded data removed]",
      "text/plain": [
       "<Figure size 432x288 with 1 Axes>"
      ]
     },
     "metadata": {
      "needs_background": "light"
     },
     "output_type": "display_data"
    }
   ],
   "source": [
    "image_path = r'/media/ailing/My Passport1/ailing/NTL/MKE/landuse/MKE/category/residential/42.87349_-87.865665_2.3780890528_0.jpg'\n",
    "names = ['commercial','green', 'no', 'others', 'parking','residential']\n",
    "predict_image(image_path, names, model,showimage = True)"
   ]
  }
 ],
 "metadata": {
  "celltoolbar": "Raw Cell Format",
  "kernelspec": {
   "display_name": "Python 3",
   "language": "python",
   "name": "python3"
  },
  "language_info": {
   "codemirror_mode": {
    "name": "ipython",
    "version": 3
   },
   "file_extension": ".py",
   "mimetype": "text/x-python",
   "name": "python",
   "nbconvert_exporter": "python",
   "pygments_lexer": "ipython3",
   "version": "3.6.12"
  }
 },
 "nbformat": 4,
 "nbformat_minor": 2
}
